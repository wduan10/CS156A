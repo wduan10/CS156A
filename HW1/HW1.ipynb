{
 "cells": [
  {
   "cell_type": "markdown",
   "metadata": {},
   "source": [
    "## CS156A Homework 2\n",
    "## Wilson Duan"
   ]
  },
  {
   "cell_type": "markdown",
   "metadata": {},
   "source": [
    "### Problem 1.\n",
    "\n",
    "i) This scenario is not learning because the exact coin specifications are given, meaning the vending machine already has a prescribed set of rules to classify the coins.\n",
    "\n",
    "ii) This scenario is supervised learning because the algorithm is given labels in order to infer decision boundaries. \n",
    "\n",
    "iii) This scenario is reinforcement learning because the computer is learning Tic-Tac-Toe by responding to rewards and punishments.\n",
    "\n",
    "Therefore, the answer is **d)**."
   ]
  },
  {
   "cell_type": "markdown",
   "metadata": {},
   "source": [
    "### Problem 2.\n",
    "i) Classifying numbers into primes and non-primes is not suited for Machine Learning because it can be solved with a simple for loop. \n",
    "\n",
    "ii) Detecting potential fraud in credit card charges is well suited for Machine Learning because it is not a straightforward task; there are many factors that contribute to fraud, which can be learned by a Machine Learning model. There is an expansive amount of data relating to credit card fraud that can be provided to the Machine Learning model for it to learn from.\n",
    "\n",
    "iii) Determining the time it would take a falling object to hit the ground is not suited for Machine Learning because it is solved easily by kinematic equations.\n",
    "\n",
    "iv) Determining the optimal cycle for traffic lights is well suited for Machine Learning because it is a complex task with many parameters that a model can learn by identifying patterns. \n",
    "\n",
    "Therefore, the answer is **a)**."
   ]
  },
  {
   "cell_type": "markdown",
   "metadata": {},
   "source": [
    "### Problem 3.\n",
    "We denote bag 1 as the bag with two black balls, and bag 2 as the bag with 1 black ball and one white ball.\n",
    "\n",
    "$P(\\text{second ball is black} \\mid \\text{first ball is black}) = \\frac{P(\\text{second ball is black } \\cap \\text{ first ball is black})}{P(\\text{first ball is black})}$.\n",
    "\n",
    "$P(\\text{second ball is black } \\cap \\text{ first ball is black}) = 1/2$ because this happens only if we picked bag 1. \n",
    "\n",
    "$P(\\text{first ball is black}) = 1/2 * P(\\text{choosing bag 2}) + 1 * P(\\text{choosing bag 1}) = 1/2 * 1/2 + 1/2 = 3/4$\n",
    "\n",
    "$P(\\text{second ball is black} \\mid \\text{first ball is black}) = \\frac{1/2}{3/4} = 2/3$\n",
    "\n",
    "Therefore, the answer is **d)**."
   ]
  },
  {
   "cell_type": "markdown",
   "metadata": {},
   "source": [
    "### Problem 4.\n",
    "$P(v = 0) = (1 - \\mu)^{10} = 0.45 ^ {10} = 3.405 \\times 10 ^ {-4}$. Therefore, the answer is **b)**."
   ]
  },
  {
   "cell_type": "markdown",
   "metadata": {},
   "source": [
    "### Problem 5.\n",
    "$P(\\text{at least one sample has } v = 0) = 1 - P(\\text{no sample has } v = 0) = 1 - (1 - 3.405 \\times 10^{-4})^{1000} = 0.289$. Therefore, the answer is **c)**."
   ]
  },
  {
   "cell_type": "markdown",
   "metadata": {},
   "source": [
    "### Problem 6.\n",
    "a) $g$ returns 1 for all three points. Score = (\\# of functions that put 1 on all three points) * 3 + (\\# of functions that put 1 on two points) * 2 +  (\\# of functions that put 1 on one point) * 1 + (\\# of functions that put 1 on no points) * 0 = (1) * 3 + (3) * 2 + (3) * 1 + (1) * 0 = 12\n",
    "\n",
    "b) $g$ returns 0 for all three points. Score = (\\# of functions that put 0 on all three points) * 3 + (\\# of functions that put 0 on two points) * 2 +  (\\# of functions that put 0 on one point) * 1 + (\\# of functions that put 0 on no points) * 0 = (1) * 3 + (3) * 2 + (3) * 1 + (1) * 0 = 12\n",
    "\n",
    "c) $g$ is the XOR function. $g(101) = 0, g(110) = 0, g(111) = 1$. Score = (\\# of functions that agree on all 3 points) * 3 + (\\# of functions that agree on 2 points) * 2 + (\\# of functions that agree on 1 point) * 1 + (\\# of functions that agree on 0 points) = (1) * 3 + (3) * 2 + (3) * 1 + (1) * 0 = 12\n",
    "\n",
    "d) $g$ is the opposite of the XOR function. $g(101) = 1, g(110) = 1, g(111) = 0$. Score = (\\# of functions that agree on all 3 points) * 3 + (\\# of functions that agree on 2 points) * 2 + (\\# of functions that agree on 1 point) * 1 + (\\# of functions that agree on 0 points) = (1) * 3 + (3) * 2 + (3) * 1 + (1) * 0 = 12\n",
    "\n",
    "Since all of the hypotheses have the same score above, they are all equivalent and the answer is **e)**."
   ]
  },
  {
   "cell_type": "markdown",
   "metadata": {},
   "source": [
    "### Problem 7."
   ]
  },
  {
   "cell_type": "code",
   "execution_count": 1,
   "metadata": {},
   "outputs": [],
   "source": [
    "import matplotlib.pyplot as plt\n",
    "import numpy as np\n",
    "import random\n",
    "random.seed(123)"
   ]
  },
  {
   "cell_type": "code",
   "execution_count": 2,
   "metadata": {},
   "outputs": [],
   "source": [
    "# Define a set of helper functions\n",
    "def random_point():\n",
    "    x = random.random() * 2 - 1\n",
    "    y = random.random() * 2 - 1\n",
    "    return (x, y)\n",
    "\n",
    "def random_line():\n",
    "    x1, y1 = random_point()\n",
    "    x2, y2 = random_point()\n",
    "\n",
    "    slope = (y2 - y1) / (x2 - x1)\n",
    "    intercept = y1 - slope * x1\n",
    "    return (slope, intercept)\n",
    "\n",
    "def evaluate_point(slope, intercept, x, y):\n",
    "    if (slope * x + intercept > y):\n",
    "        return -1\n",
    "    return 1\n",
    "\n",
    "def predict(weights, x, y):\n",
    "    return np.sign(weights[0] * x + weights[1] * y + weights[2])"
   ]
  },
  {
   "cell_type": "code",
   "execution_count": 3,
   "metadata": {},
   "outputs": [],
   "source": [
    "def create_dataset(n, slope, intercept):\n",
    "    X = []\n",
    "    y = []\n",
    "    for i in range(n):\n",
    "        a, b = random_point()\n",
    "        X.append((a, b))\n",
    "        y.append(evaluate_point(slope, intercept, a, b))\n",
    "    return X, y"
   ]
  },
  {
   "cell_type": "code",
   "execution_count": 4,
   "metadata": {},
   "outputs": [],
   "source": [
    "def simulate_PLA(n):\n",
    "    slope, intercept = random_line()\n",
    "    X, y = create_dataset(n, slope, intercept)\n",
    "\n",
    "    weights = np.array([0.0, 0.0, 0.0])\n",
    "    iterations = 0\n",
    "\n",
    "    # calibrate weights\n",
    "    while True:\n",
    "        misclassified_points = []\n",
    "        # populate misclassified points\n",
    "        for ((a, b), label) in zip(X, y):\n",
    "            prediction = predict(weights, a, b)\n",
    "            if (prediction != label):\n",
    "                misclassified_points.append((a, b, label))\n",
    "\n",
    "        # check for convergence\n",
    "        if (len(misclassified_points) == 0):\n",
    "            break\n",
    "        else:\n",
    "            a, b, label = random.choice(misclassified_points)\n",
    "            weights += label * np.array([a, b, 1])\n",
    "            iterations += 1\n",
    "\n",
    "    # evaluate performance\n",
    "    incorrect = 0.0\n",
    "    for i in range(1000):\n",
    "        a, b = random_point()\n",
    "        prediction = predict(weights, a, b)\n",
    "        label = evaluate_point(slope, intercept, a, b)\n",
    "        incorrect += (int)(prediction != label)\n",
    "    disagreement = incorrect / 1000\n",
    "\n",
    "    return iterations, disagreement"
   ]
  },
  {
   "cell_type": "code",
   "execution_count": 5,
   "metadata": {},
   "outputs": [
    {
     "name": "stdout",
     "output_type": "stream",
     "text": [
      "Average # of iterations to converge for N = 10:  11.454\n",
      "Average P[f(x) != g(x)] for N = 10:  0.10520700000000005\n"
     ]
    }
   ],
   "source": [
    "# simulate 1000 runs and take average\n",
    "N = 10\n",
    "iteration_sum = 0\n",
    "disagreement_sum = 0\n",
    "for i in range(1000):\n",
    "    iterations, disagreement = simulate_PLA(N)\n",
    "    iteration_sum += iterations\n",
    "    disagreement_sum += disagreement\n",
    "\n",
    "print(f\"Average # of iterations to converge for N = {N}: \", iteration_sum / 1000)\n",
    "print(f\"Average P[f(x) != g(x)] for N = {N}: \", disagreement_sum / 1000)"
   ]
  },
  {
   "cell_type": "markdown",
   "metadata": {},
   "source": [
    "According to the code output above, the answer is **b)**."
   ]
  },
  {
   "cell_type": "markdown",
   "metadata": {},
   "source": [
    "### Problem 8.\n",
    "According to the code output above, the answer is **c)**."
   ]
  },
  {
   "cell_type": "markdown",
   "metadata": {},
   "source": [
    "### Problem 9."
   ]
  },
  {
   "cell_type": "code",
   "execution_count": 6,
   "metadata": {},
   "outputs": [
    {
     "name": "stdout",
     "output_type": "stream",
     "text": [
      "Average # of iterations to converge for N = 100:  104.068\n",
      "Average P[f(x) != g(x)] for N = 100:  0.013332999999999963\n"
     ]
    }
   ],
   "source": [
    "# repeat but with N = 100\n",
    "N = 100\n",
    "iteration_sum = 0\n",
    "disagreement_sum = 0\n",
    "for i in range(1000):\n",
    "    iterations, disagreement = simulate_PLA(N)\n",
    "    iteration_sum += iterations\n",
    "    disagreement_sum += disagreement\n",
    "\n",
    "print(f\"Average # of iterations to converge for N = {N}: \", iteration_sum / 1000)\n",
    "print(f\"Average P[f(x) != g(x)] for N = {N}: \", disagreement_sum / 1000)"
   ]
  },
  {
   "cell_type": "markdown",
   "metadata": {},
   "source": [
    "According to the code output above, the answer is **b)**."
   ]
  },
  {
   "cell_type": "markdown",
   "metadata": {},
   "source": [
    "### Problem 10.\n",
    "According to the code output above, the answer is **b)**."
   ]
  }
 ],
 "metadata": {
  "kernelspec": {
   "display_name": "Python 3",
   "language": "python",
   "name": "python3"
  },
  "language_info": {
   "codemirror_mode": {
    "name": "ipython",
    "version": 3
   },
   "file_extension": ".py",
   "mimetype": "text/x-python",
   "name": "python",
   "nbconvert_exporter": "python",
   "pygments_lexer": "ipython3",
   "version": "3.11.0"
  }
 },
 "nbformat": 4,
 "nbformat_minor": 2
}
