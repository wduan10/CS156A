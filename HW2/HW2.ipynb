{
 "cells": [
  {
   "cell_type": "markdown",
   "metadata": {},
   "source": [
    "## CS156A Homework 2\n",
    "## Wilson Duan"
   ]
  },
  {
   "cell_type": "code",
   "execution_count": 1,
   "metadata": {},
   "outputs": [],
   "source": [
    "# Imports\n",
    "import matplotlib.pyplot as plt\n",
    "import numpy as np\n",
    "import random\n",
    "from sklearn.linear_model import LinearRegression\n",
    "random.seed(123)"
   ]
  },
  {
   "cell_type": "code",
   "execution_count": 2,
   "metadata": {},
   "outputs": [
    {
     "name": "stdout",
     "output_type": "stream",
     "text": [
      "Average value of v_1: 0.5012000000000001\n",
      "Average value of v_rand: 0.49979999999999997\n",
      "Average value of v_min: 0.036399999999999995\n"
     ]
    }
   ],
   "source": [
    "num_simulations = 1000\n",
    "num_coins = 1000\n",
    "num_flips = 10\n",
    "\n",
    "v_1 = np.zeros(num_simulations)\n",
    "v_rand = np.zeros(num_simulations)\n",
    "v_min = np.zeros(num_simulations)\n",
    "\n",
    "for i in range(num_simulations):\n",
    "    flips = np.zeros(num_coins)\n",
    "    for j in range(num_coins):\n",
    "        counter = 0.0\n",
    "        for k in range(num_flips):\n",
    "            counter += random.randint(0, 1) \n",
    "        flips[j] = float(counter) / num_flips\n",
    "    v_1[i] = flips[0]\n",
    "    v_rand[i] = flips[random.randint(0, num_coins-1)]\n",
    "    v_min[i] = np.min(flips)\n",
    "\n",
    "print(f'Average value of v_1: {np.mean(v_1)}')\n",
    "print(f'Average value of v_rand: {np.mean(v_rand)}')\n",
    "print(f'Average value of v_min: {np.mean(v_min)}')"
   ]
  },
  {
   "cell_type": "markdown",
   "metadata": {},
   "source": [
    "### Problem 1. \n",
    "The average value of $v_{min}$ is equal to 0.0373, which is closest to **b) 0.01.**"
   ]
  },
  {
   "cell_type": "code",
   "execution_count": 3,
   "metadata": {},
   "outputs": [
    {
     "data": {
      "image/png": "[encoded data removed]",
      "text/plain": [
       "<Figure size 1600x400 with 3 Axes>"
      ]
     },
     "metadata": {},
     "output_type": "display_data"
    }
   ],
   "source": [
    "fig, ax = plt.subplots(1, 3, figsize=(16, 4))\n",
    "\n",
    "ax[0].hist(v_1, bins=[0, 0.1, 0.2, 0.3, 0.4, 0.5, 0.6, 0.7, 0.8, 0.9, 1])\n",
    "ax[0].set_title(\"Distibution of v_1\")\n",
    "\n",
    "ax[1].hist(v_rand, bins=[0, 0.1, 0.2, 0.3, 0.4, 0.5, 0.6, 0.7, 0.8, 0.9, 1])\n",
    "ax[1].set_title(\"Distibution of v_rand\")\n",
    "\n",
    "ax[2].hist(v_min, bins=[0, 0.1, 0.2, 0.3, 0.4, 0.5, 0.6, 0.7, 0.8, 0.9, 1])\n",
    "ax[2].set_title(\"Distibution of v_min\")\n",
    "plt.show()"
   ]
  },
  {
   "cell_type": "markdown",
   "metadata": {},
   "source": [
    "### Problem 2.\n",
    "The probability distributions of coins $c_1$ and $c_{rand}$ are roughly binomial, meaning the deviation from the expected number of heads decreases exponentially with the number of tosses. On the other hand, the distribution of $c_{min}$ is two bars at 0.0 and 0.1, which is not binomial. As a result, $c_1$ and $c_{rand}$ satisfy the Hoeffding Inequality and $c_{min}$ does not, so the answer is **d)**."
   ]
  },
  {
   "cell_type": "markdown",
   "metadata": {},
   "source": [
    "### Problem 3.\n",
    "$$P(\\text{$h$ makes an error predicting y}) = P(\\text{$f$ predicts y correctly}) * P(\\text{$h$ predicts $f$ incorrectly})$$\n",
    "$$+ P(\\text{$f$ predicts y incorrectly}) * P(\\text{$h$ predicts $f$ correctly}) = \\lambda * \\mu + (1 - \\lambda) * (1 - \\mu).$$\n",
    "\n",
    "Therefore, the answer is **e)**."
   ]
  },
  {
   "cell_type": "markdown",
   "metadata": {},
   "source": [
    "### Problem 4.\n",
    "We analyze the equation dictating the error of h: $\\lambda * \\mu + (1 - \\lambda) * (1 - \\mu) = \\lambda * \\mu + 1 - \\lambda - \\mu + \\lambda * \\mu = 2 \\lambda * \\mu + 1 - \\lambda - \\mu = (2 \\lambda - 1) * \\mu + 1 - \\lambda$. The $\\mu$ term becomes negated when $2 \\lambda - 1 = 0$, which occurs when $\\lambda = 0.5$. As a result, the performance of $h$ is independent of $\\mu$ when $\\lambda = 0.5$, and the answer is **b)**. "
   ]
  },
  {
   "cell_type": "code",
   "execution_count": 4,
   "metadata": {},
   "outputs": [],
   "source": [
    "# Define a set of helper functions\n",
    "def random_point():\n",
    "    x = random.random() * 2 - 1\n",
    "    y = random.random() * 2 - 1\n",
    "    return (x, y)\n",
    "\n",
    "def random_line():\n",
    "    x1, y1 = random_point()\n",
    "    x2, y2 = random_point()\n",
    "\n",
    "    slope = (y2 - y1) / (x2 - x1)\n",
    "    intercept = y1 - slope * x1\n",
    "    return (slope, intercept)\n",
    "\n",
    "def evaluate_point(slope, intercept, x, y):\n",
    "    if (slope * x + intercept > y):\n",
    "        return -1\n",
    "    return 1\n",
    "\n",
    "def PLA_predict(weights, x, y):\n",
    "    return np.sign(weights[0] + weights[1] * x + weights[2] * y)\n",
    "\n",
    "def predict(weights, X):\n",
    "    return np.sign(weights[0] + weights[1] * X[:, 0] + weights[2] * X[:, 1])"
   ]
  },
  {
   "cell_type": "code",
   "execution_count": 5,
   "metadata": {},
   "outputs": [],
   "source": [
    "def create_dataset(n, slope, intercept):\n",
    "    X = []\n",
    "    y = []\n",
    "    for i in range(n):\n",
    "        a, b = random_point()\n",
    "        X.append([a, b])\n",
    "        y.append(evaluate_point(slope, intercept, a, b))\n",
    "    return np.array(X), np.array(y)"
   ]
  },
  {
   "cell_type": "code",
   "execution_count": 6,
   "metadata": {},
   "outputs": [
    {
     "name": "stdout",
     "output_type": "stream",
     "text": [
      "Average E_in: 0.038990000000000004\n",
      "Average E_out: 0.04812100000000001\n"
     ]
    }
   ],
   "source": [
    "num_simulations = 1000\n",
    "N = 100\n",
    "\n",
    "E_ins = np.zeros(num_simulations)\n",
    "E_outs = np.zeros(num_simulations)\n",
    "for i in range(num_simulations):\n",
    "    slope, intercept = random_line()\n",
    "    X_train, y_train = create_dataset(N, slope, intercept)\n",
    "    X_test, y_test = create_dataset(1000, slope, intercept)\n",
    "\n",
    "    # train regression\n",
    "    reg = LinearRegression().fit(X_train, y_train)\n",
    "    weights = np.append(reg.intercept_, reg.coef_)\n",
    "\n",
    "\n",
    "    # evaluate in sample performance\n",
    "    E_in = np.mean(predict(weights, X_train) != y_train)\n",
    "    E_ins[i] = E_in\n",
    "\n",
    "    # evaluate out of sample performance\n",
    "    E_out = np.mean(predict(weights, X_test) != y_test)\n",
    "    E_outs[i] = E_out\n",
    "\n",
    "print(f'Average E_in: {np.mean(E_ins)}')\n",
    "print(f'Average E_out: {np.mean(E_outs)}')"
   ]
  },
  {
   "cell_type": "markdown",
   "metadata": {},
   "source": [
    "### Problem 5.\n",
    "The average $E_{in}$ is 0.0397, which is closest to answer **c)**."
   ]
  },
  {
   "cell_type": "markdown",
   "metadata": {},
   "source": [
    "### Problem 6.\n",
    "The average $E_{out}$ is 0.0492, which is closest to answer **c)**."
   ]
  },
  {
   "cell_type": "code",
   "execution_count": 7,
   "metadata": {},
   "outputs": [
    {
     "name": "stdout",
     "output_type": "stream",
     "text": [
      "Average iterations to converge: 4.423\n"
     ]
    }
   ],
   "source": [
    "num_simulations = 1000\n",
    "N = 10\n",
    "\n",
    "iteration_array = np.zeros(num_simulations)\n",
    "for i in range(num_simulations):\n",
    "    slope, intercept = random_line()\n",
    "    X, y = create_dataset(N, slope, intercept)\n",
    "\n",
    "    # train regression\n",
    "    reg = LinearRegression().fit(X, y)\n",
    "    weights = np.append(reg.intercept_, reg.coef_)\n",
    "\n",
    "\n",
    "    # run PLA\n",
    "    iterations = 0\n",
    "    # calibrate weights\n",
    "    while True:\n",
    "        misclassified_points = []\n",
    "        # populate misclassified points\n",
    "        for ((a, b), label) in zip(X, y):\n",
    "            prediction = PLA_predict(weights, a, b)\n",
    "            if (prediction != label):\n",
    "                misclassified_points.append((a, b, label))\n",
    "\n",
    "        # check for convergence\n",
    "        if (len(misclassified_points) == 0):\n",
    "            break\n",
    "        else:\n",
    "            a, b, label = random.choice(misclassified_points)\n",
    "            weights += label * np.array([1, a, b])\n",
    "            iterations += 1\n",
    "    \n",
    "    iteration_array[i] = iterations\n",
    "\n",
    "print(f'Average iterations to converge: {np.mean(iteration_array)}')"
   ]
  },
  {
   "cell_type": "markdown",
   "metadata": {},
   "source": [
    "### Problem 7.\n",
    "The average iterations it takes to converge is 4.289, which is closest to answer choice **a) 1**."
   ]
  },
  {
   "cell_type": "code",
   "execution_count": null,
   "metadata": {},
   "outputs": [],
   "source": [
    "def target_function(a, b):\n",
    "  return np.sign(a * a + b * b - 0.6)\n",
    "\n",
    "def create_transformation_dataset(n, noise = True):\n",
    "    X = []\n",
    "    y = []\n",
    "    for i in range(n):\n",
    "        a, b = random_point()\n",
    "        X.append([a, b])\n",
    "        y.append(target_function(a, b))\n",
    "    \n",
    "    X = np.array(X)\n",
    "    y = np.array(y)\n",
    "    if (noise):\n",
    "       y = simulate_noise(y)\n",
    "    return X, y\n",
    "\n",
    "def simulate_noise(y):\n",
    "  subset = int(len(y) / 10)\n",
    "  mask = np.array([-1] * subset + [1] * (len(y) - subset))\n",
    "  random.shuffle(mask)\n",
    "  return y * mask"
   ]
  },
  {
   "cell_type": "code",
   "execution_count": null,
   "metadata": {},
   "outputs": [
    {
     "name": "stdout",
     "output_type": "stream",
     "text": [
      "Average E_in: 0.505403\n"
     ]
    }
   ],
   "source": [
    "num_simulations = 1000\n",
    "N = 1000\n",
    "\n",
    "E_ins = np.zeros(num_simulations)\n",
    "for i in range(num_simulations):\n",
    "    X, y = create_transformation_dataset(N)\n",
    "\n",
    "    # train regression\n",
    "    reg = LinearRegression().fit(X, y)\n",
    "    weights = np.append(reg.intercept_, reg.coef_)\n",
    "\n",
    "    # evaluate in sample performance\n",
    "    E_in = np.mean(predict(weights, X) != y)\n",
    "    E_ins[i] = E_in\n",
    "\n",
    "print(f'Average E_in: {np.mean(E_ins)}')"
   ]
  },
  {
   "cell_type": "markdown",
   "metadata": {},
   "source": [
    "### Problem 8.\n",
    "The average $E_{in}$ is 0.505, which is closest to answer choice **d)**. "
   ]
  },
  {
   "cell_type": "code",
   "execution_count": null,
   "metadata": {},
   "outputs": [],
   "source": [
    "def transform(X):\n",
    "    output = np.zeros((len(X), 5))\n",
    "    for i, (a, b) in enumerate(X):\n",
    "        output[i] = np.array([a, b, a * b, a * a, b * b])\n",
    "    return output\n",
    "\n",
    "def transform_predict(weights, X):\n",
    "    return np.sign(weights[0] + weights[1] * X[:, 0] + weights[2] * X[:, 1] + \n",
    "                   weights[3] * X[:, 2] + weights[4] * X[:, 3] + weights[5] * X[:, 4])"
   ]
  },
  {
   "cell_type": "code",
   "execution_count": null,
   "metadata": {},
   "outputs": [
    {
     "name": "stdout",
     "output_type": "stream",
     "text": [
      "Average weights: [-0.9929184071170881, -8.425915438914182e-05, 3.818554167751773e-05, 6.534790737482246e-05, 1.5573982355691482, 1.5592312627717961]\n"
     ]
    }
   ],
   "source": [
    "num_simulations = 1000\n",
    "N = 1000\n",
    "\n",
    "all_weights = np.zeros(6)\n",
    "for i in range(num_simulations):\n",
    "    X, y = create_transformation_dataset(N)\n",
    "    X = transform(X)\n",
    "\n",
    "    # train regression\n",
    "    reg = LinearRegression().fit(X, y)\n",
    "    weights = np.append(reg.intercept_, reg.coef_)\n",
    "\n",
    "    all_weights += weights\n",
    "\n",
    "all_weights /= num_simulations\n",
    "all_weights = list(all_weights)\n",
    "print(f'Average weights: {all_weights}')"
   ]
  },
  {
   "cell_type": "code",
   "execution_count": null,
   "metadata": {},
   "outputs": [
    {
     "data": {
      "text/plain": [
       "(0.967, 0.649, 0.664, 0.613, 0.558)"
      ]
     },
     "execution_count": 253,
     "metadata": {},
     "output_type": "execute_result"
    }
   ],
   "source": [
    "g_a = np.array([-1, -0.05, 0.08, 0.13, 1.5, 1.5])\n",
    "g_b = np.array([-1, -0.05, 0.08, 0.13, 1.5, 15])\n",
    "g_c = np.array([-1, -0.05, 0.08, 0.13, 15, 1.5])\n",
    "g_d = np.array([-1, -1.5, 0.08, 0.13, 0.05, 0.05])\n",
    "g_e = np.array([-1, -0.05, 0.08, 1.5, 0.15, 0.15])\n",
    "\n",
    "# generate 1000 random points\n",
    "X, y = create_transformation_dataset(1000, noise = False)\n",
    "X = transform(X)\n",
    "y = transform_predict(all_weights, X)\n",
    "agreement_a = np.mean(transform_predict(g_a, X) == y)\n",
    "agreement_b = np.mean(transform_predict(g_b, X) == y)\n",
    "agreement_c = np.mean(transform_predict(g_c, X) == y)\n",
    "agreement_d = np.mean(transform_predict(g_d, X) == y)\n",
    "agreement_e = np.mean(transform_predict(g_e, X) == y)\n",
    "\n",
    "agreement_a, agreement_b, agreement_c, agreement_d, agreement_e"
   ]
  },
  {
   "cell_type": "markdown",
   "metadata": {},
   "source": [
    "### Problem 9.\n",
    "$g_a$ had agreement of 0.967, $g_b$ had agreement of 0.649, $g_c$ had agreement of 0.664, $g_d$ had agreement of 0.613, $g_e$ had agreement of 0.558. The hypothesis with the greatest agreement is $g_a$, so the answer is **a)**."
   ]
  },
  {
   "cell_type": "code",
   "execution_count": null,
   "metadata": {},
   "outputs": [
    {
     "name": "stdout",
     "output_type": "stream",
     "text": [
      "Average E_out: 0.123471\n"
     ]
    }
   ],
   "source": [
    "num_simulations = 1000\n",
    "num_points = 1000\n",
    "\n",
    "E_outs = np.zeros(num_simulations)\n",
    "for i in range(num_simulations):\n",
    "    X, y = create_transformation_dataset(num_points)\n",
    "    X = transform(X)\n",
    "\n",
    "    E_out = np.mean(transform_predict(all_weights, X) != y)\n",
    "    E_outs[i] = E_out\n",
    "\n",
    "print(f'Average E_out: {np.mean(E_outs)}')"
   ]
  },
  {
   "cell_type": "markdown",
   "metadata": {},
   "source": [
    "### Problem 10.\n",
    "The average $E_{out}$ is 0.123, which is closest to answer **b)**."
   ]
  }
 ],
 "metadata": {
  "kernelspec": {
   "display_name": "Python 3",
   "language": "python",
   "name": "python3"
  },
  "language_info": {
   "codemirror_mode": {
    "name": "ipython",
    "version": 3
   },
   "file_extension": ".py",
   "mimetype": "text/x-python",
   "name": "python",
   "nbconvert_exporter": "python",
   "pygments_lexer": "ipython3",
   "version": "3.11.0"
  },
  "orig_nbformat": 4
 },
 "nbformat": 4,
 "nbformat_minor": 2
}
