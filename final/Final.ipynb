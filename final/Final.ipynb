{
 "cells": [
  {
   "cell_type": "markdown",
   "metadata": {},
   "source": [
    "## CS156A Final Exam\n",
    "## Wilson Duan"
   ]
  },
  {
   "cell_type": "markdown",
   "metadata": {},
   "source": [
    "### Problem 1.\n",
    "Let $x = (x_1, x_2)$ be an arbitrary point in X. The linear transformation applied to $x$ results in a Z space expressed by $x_1^ix_2^j$ for all $i, j \\geq 0$ such that $i + j \\leq 10$ (except for $x_0 = 1$, which occurs when $i = j = 0$). Thus, to calculate the dimensionality of this Z space, we must count the number of $i, j$ pairs such that $i + j \\leq 10$. This is a classic counting problem:\n",
    "\n",
    "$i + j \\leq 10$\n",
    "\n",
    "$i + j + d = 10$\n",
    "\n",
    "Using sticks and stones, the number of ways to divide $i, j, d$ to sum to 10 is ${{10 + 2} \\choose 2} = {12 \\choose 2} = 66$. We then subtract one since we do not count the constant coordinate $x_0 = 1$, giving us a total of 65 $i, j$ pairs. Therefore, the dimensionality of the Z space is 65, giving us the answer **e)**."
   ]
  },
  {
   "cell_type": "markdown",
   "metadata": {},
   "source": [
    "### Problem 2.\n",
    "The logistic regression model could result in $\\bar g \\not\\in H$. Since each hypothesis function in linear regression models comes in the form $f(x) = \\frac{e^{ax + b}}{1 + e^{ax + b}}$, if we were to add multiple hypothesis functions, there is no guarantee that the resulting sum of the functions follows the same form $\\frac{e^{ax + b}}{1 + e^{ax + b}}$, implying that $\\bar g$ may not be a logistic regression function. As a result, the answer is **d)**."
   ]
  },
  {
   "cell_type": "markdown",
   "metadata": {},
   "source": [
    "### Problem 3.\n",
    "Statement **d)** is false because comparing $(E_{out} - E_{in})$ does not always help you determine overfitting. Solely using $(E_{out} - E_{in})$ is not a good enough metric for overfitting, as we do not know if the difference $(E_{out} - E_{in})$ can be attributed to overfitting or another factor such as noisy test data. Thus, the answer is **d)**."
   ]
  },
  {
   "cell_type": "markdown",
   "metadata": {},
   "source": [
    "### Problem 4.\n",
    "Statement **d)** is true because stochastic noise does not depend on the hypothesis set. Stochastic noise comes solely from the data, so it has no correlation with the hypothesis set, so the answer is **d)**."
   ]
  },
  {
   "cell_type": "markdown",
   "metadata": {},
   "source": [
    "### Problem 5.\n",
    "Since $w_{lin}$ is the linear regression solution, we know $w_{lin}$ minimizes the mean squared error. Furthermore, since we have that $w_{lin}^T\\Gamma^T\\Gamma w_{lin} \\leq C$, $w_{lin}$ satisfies both conditions given, so we know the regularized solution is $w_{reg} = w_{lin}$. Thus, the answer is **a)**."
   ]
  },
  {
   "cell_type": "markdown",
   "metadata": {},
   "source": [
    "### Problem 6.\n",
    "When we use soft-order constraints to regularize polynomial models, we are minimizing mean squared error of the input data while adhering to the constraint $w^Tw \\leq C$. By choosing the right regularization term $\\lambda$, we can translate this to minimizing augmented error $E_{aug}(w) = E_{in}(w) + \\frac{\\lambda}{N}w^Tw$, so the answer is **b)**. "
   ]
  },
  {
   "cell_type": "markdown",
   "metadata": {},
   "source": [
    "### Problem 7.\n"
   ]
  },
  {
   "cell_type": "code",
   "execution_count": 13,
   "metadata": {},
   "outputs": [],
   "source": [
    "import numpy as np\n",
    "import random"
   ]
  },
  {
   "cell_type": "code",
   "execution_count": 14,
   "metadata": {},
   "outputs": [],
   "source": [
    "train_data = []\n",
    "test_data = []\n",
    "\n",
    "with open(\"features.train\", \"r\") as f:\n",
    "    for line in f:\n",
    "        line = line.strip().split()\n",
    "        line = [float(x) for x in line]\n",
    "        train_data.append(line)\n",
    "\n",
    "with open(\"features.test\", \"r\") as f:\n",
    "    for line in f:\n",
    "        line = line.strip().split()\n",
    "        line = [float(x) for x in line]\n",
    "        test_data.append(line)\n",
    "\n",
    "train_data = np.array(train_data)\n",
    "test_data = np.array(test_data)"
   ]
  },
  {
   "cell_type": "code",
   "execution_count": 15,
   "metadata": {},
   "outputs": [],
   "source": [
    "def transform_data(data, k):\n",
    "    output = np.zeros((len(data), k + 1))\n",
    "    for i in range(len(data)):\n",
    "        x1, x2 = data[i]\n",
    "        output[i] = [1, x1, x2, x1*x2, x1**2, x2**2][:k + 1]\n",
    "    return output\n",
    "\n",
    "def linear_regression(X, y):\n",
    "    inversed = np.linalg.inv(X.transpose().dot(X))\n",
    "    w = inversed.dot(X.transpose()).dot(y)\n",
    "    return w\n",
    "\n",
    "def linear_regression_decay(X, y, lmbda):\n",
    "    inversed = np.linalg.inv(X.transpose().dot(X) + lmbda * np.eye(X.shape[1]))\n",
    "    w = inversed.dot(X.transpose()).dot(y)\n",
    "    return w\n",
    "\n",
    "def calculate_error(X, y, w):\n",
    "    predictions = np.sign(X.dot(w))\n",
    "    return np.mean(predictions != y)"
   ]
  },
  {
   "cell_type": "code",
   "execution_count": 16,
   "metadata": {},
   "outputs": [],
   "source": [
    "def one_vs_all(y, label):\n",
    "    output = []\n",
    "    for i in range(len(y)):\n",
    "        if (y[i] == label):\n",
    "            output.append(1.0)\n",
    "        else:\n",
    "            output.append(-1.0)\n",
    "    return np.array(output)\n",
    "\n",
    "def one_vs_one(X, y, label1, label2):\n",
    "    X_output = []\n",
    "    y_output = []\n",
    "    for (features, label) in zip(X, y):\n",
    "        if (label == label1):\n",
    "            X_output.append(features)\n",
    "            y_output.append(1.0)\n",
    "        elif (label == label2):\n",
    "            X_output.append(features)\n",
    "            y_output.append(-1.0)\n",
    "    return np.array(X_output), np.array(y_output)"
   ]
  },
  {
   "cell_type": "code",
   "execution_count": 17,
   "metadata": {},
   "outputs": [
    {
     "name": "stdout",
     "output_type": "stream",
     "text": [
      "E_in for 5 versus all:  0.07625840076807022\n",
      "E_in for 6 versus all:  0.09107118365107666\n",
      "E_in for 7 versus all:  0.08846523110684405\n",
      "E_in for 8 versus all:  0.07433822520916199\n",
      "E_in for 9 versus all:  0.08832807570977919\n"
     ]
    }
   ],
   "source": [
    "lmbda = 1\n",
    "X_train, y_train = train_data[:, 1:], train_data[:, 0]\n",
    "X_test, y_test = test_data[:, 1:], test_data[:, 0]\n",
    "\n",
    "# add constant to X\n",
    "X_train = transform_data(X_train, 2)\n",
    "X_test = transform_data(X_test, 2)\n",
    "\n",
    "for i in range(5, 10):\n",
    "    y_train_temp = one_vs_all(np.copy(y_train), i)\n",
    "    y_test_temp = one_vs_all(np.copy(y_test), i)\n",
    "\n",
    "    w = linear_regression_decay(X_train, y_train_temp, lmbda)\n",
    "    e_in = calculate_error(X_train, y_train_temp, w)\n",
    "    print(f'E_in for {i} versus all: ', e_in)"
   ]
  },
  {
   "cell_type": "markdown",
   "metadata": {},
   "source": [
    "According to the code output above, the classifier with the lowest $E_{in}$ is 8 versus all, so the answer is **d)**."
   ]
  },
  {
   "cell_type": "markdown",
   "metadata": {},
   "source": [
    "### Problem 8."
   ]
  },
  {
   "cell_type": "code",
   "execution_count": 18,
   "metadata": {},
   "outputs": [
    {
     "name": "stdout",
     "output_type": "stream",
     "text": [
      "E_out for 0 versus all:  0.10662680617837568\n",
      "E_out for 1 versus all:  0.02192326856003986\n",
      "E_out for 2 versus all:  0.09865470852017937\n",
      "E_out for 3 versus all:  0.08271051320378675\n",
      "E_out for 4 versus all:  0.09965122072745392\n"
     ]
    }
   ],
   "source": [
    "lmbda = 1.0\n",
    "X_train, y_train = train_data[:, 1:], train_data[:, 0]\n",
    "X_test, y_test = test_data[:, 1:], test_data[:, 0]\n",
    "\n",
    "# apply feature transform\n",
    "X_train = transform_data(X_train, 5)\n",
    "X_test = transform_data(X_test, 5)\n",
    "\n",
    "for i in range(5):\n",
    "    y_train_temp = one_vs_all(np.copy(y_train), i)\n",
    "    y_test_temp = one_vs_all(np.copy(y_test), i)\n",
    "\n",
    "    w = linear_regression_decay(X_train, y_train_temp, lmbda)\n",
    "    e_out = calculate_error(X_test, y_test_temp, w)\n",
    "    print(f'E_out for {i} versus all: ', e_out)"
   ]
  },
  {
   "cell_type": "markdown",
   "metadata": {},
   "source": [
    "According to the code output above, the classifier with the lowest $E_{out}$ is 1 versus all, so the answer is **b)**."
   ]
  },
  {
   "cell_type": "markdown",
   "metadata": {},
   "source": [
    "### Problem 9."
   ]
  },
  {
   "cell_type": "code",
   "execution_count": 19,
   "metadata": {},
   "outputs": [
    {
     "name": "stdout",
     "output_type": "stream",
     "text": [
      "E_in for 0 versus all with and without transform 0.10931285146070498 0.10231792621039638\n",
      "E_out for 0 versus all with and without transform 0.11509715994020926 0.10662680617837568\n",
      "\n",
      "E_in for 1 versus all with and without transform 0.01522424907420107 0.012343985735838706\n",
      "E_out for 1 versus all with and without transform 0.02242152466367713 0.02192326856003986\n",
      "\n",
      "E_in for 2 versus all with and without transform 0.10026059525442327 0.10026059525442327\n",
      "E_out for 2 versus all with and without transform 0.09865470852017937 0.09865470852017937\n",
      "\n",
      "E_in for 3 versus all with and without transform 0.09024825126868742 0.09024825126868742\n",
      "E_out for 3 versus all with and without transform 0.08271051320378675 0.08271051320378675\n",
      "\n",
      "E_in for 4 versus all with and without transform 0.08942531888629818 0.08942531888629818\n",
      "E_out for 4 versus all with and without transform 0.09965122072745392 0.09965122072745392\n",
      "\n",
      "E_in for 5 versus all with and without transform 0.07625840076807022 0.07625840076807022\n",
      "E_out for 5 versus all with and without transform 0.07972097658196313 0.07922272047832586\n",
      "\n",
      "E_in for 6 versus all with and without transform 0.09107118365107666 0.09107118365107666\n",
      "E_out for 6 versus all with and without transform 0.08470353761833582 0.08470353761833582\n",
      "\n",
      "E_in for 7 versus all with and without transform 0.08846523110684405 0.08846523110684405\n",
      "E_out for 7 versus all with and without transform 0.07324364723467862 0.07324364723467862\n",
      "\n",
      "E_in for 8 versus all with and without transform 0.07433822520916199 0.07433822520916199\n",
      "E_out for 8 versus all with and without transform 0.08271051320378675 0.08271051320378675\n",
      "\n",
      "E_in for 9 versus all with and without transform 0.08832807570977919 0.08832807570977919\n",
      "E_out for 9 versus all with and without transform 0.08819133034379671 0.08819133034379671\n",
      "\n"
     ]
    }
   ],
   "source": [
    "lmbda = 1\n",
    "X_train, y_train = train_data[:, 1:], train_data[:, 0]\n",
    "X_test, y_test = test_data[:, 1:], test_data[:, 0]\n",
    "\n",
    "# add constant\n",
    "X_train_normal = transform_data(X_train, 2)\n",
    "X_test_normal = transform_data(X_test, 2)\n",
    "\n",
    "# apply feature transform\n",
    "X_train_transform = transform_data(X_train, 5)\n",
    "X_test_transform = transform_data(X_test, 5)\n",
    "\n",
    "for i in range(10):\n",
    "    y_train_temp = one_vs_all(np.copy(y_train), i)\n",
    "    y_test_temp = one_vs_all(np.copy(y_test), i)\n",
    "    \n",
    "    w_normal = linear_regression_decay(X_train_normal, y_train_temp, lmbda)\n",
    "    w_transform = linear_regression_decay(X_train_transform, y_train_temp, lmbda)\n",
    "\n",
    "    e_in_normal = calculate_error(X_train_normal, y_train_temp, w_normal)\n",
    "    e_in_transform = calculate_error(X_train_transform, y_train_temp, w_transform)\n",
    "\n",
    "    e_out_normal = calculate_error(X_test_normal, y_test_temp, w_normal)\n",
    "    e_out_transform = calculate_error(X_test_transform, y_test_temp, w_transform)\n",
    "\n",
    "    print(f'E_in for {i} versus all with and without transform', e_in_normal, e_in_transform)\n",
    "    print(f'E_out for {i} versus all with and without transform', e_out_normal, e_out_transform)\n",
    "    print()"
   ]
  },
  {
   "cell_type": "markdown",
   "metadata": {},
   "source": [
    "According to the code output above, the transform improves the out of sample performance of the 5 versus all classifier, but by less than 5%. Therefore, the answer is **e)**."
   ]
  },
  {
   "cell_type": "markdown",
   "metadata": {},
   "source": [
    "### Problem 10."
   ]
  },
  {
   "cell_type": "code",
   "execution_count": 33,
   "metadata": {},
   "outputs": [
    {
     "name": "stdout",
     "output_type": "stream",
     "text": [
      "lambda = 1:\n",
      "E_in for 1 vs 5: 0.005124919923126201\n",
      "E_out for 1 vs 5: 0.025943396226415096\n",
      "lambda = 0.01:\n",
      "E_in for 1 vs 5: 0.004484304932735426\n",
      "E_out for 1 vs 5: 0.02830188679245283\n"
     ]
    }
   ],
   "source": [
    "lmbda1 = 1\n",
    "lmbda2 = 0.01\n",
    "X_train, y_train = train_data[:, 1:], train_data[:, 0]\n",
    "X_test, y_test = test_data[:, 1:], test_data[:, 0]\n",
    "\n",
    "# apply feature transform\n",
    "X_train = transform_data(X_train, 5)\n",
    "X_test = transform_data(X_test, 5)\n",
    "\n",
    "X_train, y_train = one_vs_one(X_train, y_train, 1, 5)\n",
    "X_test, y_test = one_vs_one(X_test, y_test, 1, 5)\n",
    "\n",
    "w1 = linear_regression_decay(X_train, y_train, lmbda1)\n",
    "w2 = linear_regression_decay(X_train, y_train, lmbda2)\n",
    "\n",
    "e_in1 = calculate_error(X_train, y_train, w1)\n",
    "e_in2 = calculate_error(X_train, y_train, w2)\n",
    "\n",
    "e_out1 = calculate_error(X_test, y_test, w1)\n",
    "e_out2 = calculate_error(X_test, y_test, w2)\n",
    "\n",
    "print('lambda = 1:')\n",
    "\n",
    "print(f'E_in for 1 vs 5:', e_in1)\n",
    "print(f'E_out for 1 vs 5:', e_out1)\n",
    "\n",
    "print('lambda = 0.01:')\n",
    "\n",
    "print(f'E_in for 1 vs 5:', e_in2)\n",
    "print(f'E_out for 1 vs 5:', e_out2)"
   ]
  },
  {
   "cell_type": "markdown",
   "metadata": {},
   "source": [
    "According to the code output above, when we decrease $\\lambda$ from 1 to 0.01, $E_{in}$ decreases and $E_{out}$ increases, indicating that overfitting occurs. Thus, the answer is **a)**."
   ]
  },
  {
   "cell_type": "markdown",
   "metadata": {},
   "source": [
    "### Problem 11."
   ]
  },
  {
   "cell_type": "code",
   "execution_count": 21,
   "metadata": {},
   "outputs": [
    {
     "data": {
      "image/png": "[encoded data removed]",
      "text/plain": [
       "<Figure size 640x480 with 1 Axes>"
      ]
     },
     "metadata": {},
     "output_type": "display_data"
    }
   ],
   "source": [
    "import matplotlib.pyplot as plt\n",
    "\n",
    "points = np.array([[1, 0], [0, 1], [0, -1], [-1, 0], [0, 2], [0, -2], [-2, 0]])\n",
    "labels = [-1, -1, -1, 1, 1, 1, 1]\n",
    "\n",
    "plt.scatter(points[:3, 0], points[:3, 1], c='r', label='-1')\n",
    "plt.scatter(points[3:, 0], points[3:, 1], c='b', label='+1')\n",
    "plt.legend()\n",
    "plt.xlabel(\"x1\")\n",
    "plt.ylabel(\"x2\")\n",
    "plt.show()"
   ]
  },
  {
   "cell_type": "code",
   "execution_count": 22,
   "metadata": {},
   "outputs": [
    {
     "data": {
      "image/png": "[encoded data removed]",
      "text/plain": [
       "<Figure size 640x480 with 1 Axes>"
      ]
     },
     "metadata": {},
     "output_type": "display_data"
    }
   ],
   "source": [
    "def transform_points(points):\n",
    "    output = []\n",
    "    for (x1, x2) in points:\n",
    "        z1 = x2 ** 2 - 2 * x1 - 1\n",
    "        z2 = x1 ** 2 - 2 * x2 + 1\n",
    "        output.append([z1, z2])\n",
    "    return np.array(output)\n",
    "\n",
    "z_points = transform_points(points)\n",
    "plt.scatter(z_points[:3, 0], z_points[:3, 1], c='r', label='-1')\n",
    "plt.scatter(z_points[3:, 0], z_points[3:, 1], c='b', label='+1')\n",
    "plt.legend()\n",
    "plt.xlabel(\"z1\")\n",
    "plt.ylabel(\"z2\")\n",
    "plt.show()"
   ]
  },
  {
   "cell_type": "markdown",
   "metadata": {},
   "source": [
    "Looking at the graph above, it is clear that the vertical line $x = 0.5$ would maximize the margin in the Z space. The weights for a vertical line are $w_1 = 1$, $w_2 = 0$, and $b = -0.5$, so the answer is **c)**."
   ]
  },
  {
   "cell_type": "markdown",
   "metadata": {},
   "source": [
    "### Problem 12."
   ]
  },
  {
   "cell_type": "code",
   "execution_count": 23,
   "metadata": {},
   "outputs": [
    {
     "name": "stdout",
     "output_type": "stream",
     "text": [
      "5\n"
     ]
    }
   ],
   "source": [
    "from sklearn import svm\n",
    "import math\n",
    "\n",
    "clf = svm.SVC(C = 10e20, kernel='poly', degree=2, coef0=1)\n",
    "clf.fit(points, labels)\n",
    "print(len(clf.support_))"
   ]
  },
  {
   "cell_type": "markdown",
   "metadata": {},
   "source": [
    "According to the code output above, the number of support vectors is 5, so the answer is **c)**."
   ]
  },
  {
   "cell_type": "markdown",
   "metadata": {},
   "source": [
    "### Problem 13."
   ]
  },
  {
   "cell_type": "code",
   "execution_count": 24,
   "metadata": {},
   "outputs": [],
   "source": [
    "# Define a set of helper functions\n",
    "def random_point():\n",
    "    x = random.random() * 2 - 1\n",
    "    y = random.random() * 2 - 1\n",
    "    return (x, y)\n",
    "\n",
    "def f(x1, x2):\n",
    "    return np.sign(x2 - x1 + 0.25 * math.sin(math.pi * x1))\n",
    "\n",
    "def create_dataset(n):\n",
    "    X = []\n",
    "    y = []\n",
    "    for i in range(n):\n",
    "        a, b = random_point()\n",
    "        X.append([a, b])\n",
    "        y.append(f(a, b))\n",
    "    return np.array(X), np.array(y)"
   ]
  },
  {
   "cell_type": "code",
   "execution_count": 25,
   "metadata": {},
   "outputs": [
    {
     "data": {
      "text/plain": [
       "0.0"
      ]
     },
     "execution_count": 25,
     "metadata": {},
     "output_type": "execute_result"
    }
   ],
   "source": [
    "N_data = 100\n",
    "N_simulations = 1000\n",
    "\n",
    "non_separable = 0\n",
    "for i in range(N_simulations):\n",
    "    X, y = create_dataset(N_data)\n",
    "\n",
    "    clf = svm.SVC(C = 10e20, kernel='rbf', gamma=1.5, coef0=1)\n",
    "    clf.fit(X, y)\n",
    "\n",
    "    if (clf.score(X, y) != 1):\n",
    "        non_separable += 1\n",
    "\n",
    "non_separable /= N_simulations\n",
    "non_separable"
   ]
  },
  {
   "cell_type": "markdown",
   "metadata": {},
   "source": [
    "According to the code output above, the data is non-separable by RBF less than 5% of the time, so the answer is **a)**."
   ]
  },
  {
   "cell_type": "markdown",
   "metadata": {},
   "source": [
    "### Problem 14."
   ]
  },
  {
   "cell_type": "code",
   "execution_count": 26,
   "metadata": {},
   "outputs": [],
   "source": [
    "def kernel(x, mu, gamma):\n",
    "    return np.exp(-gamma * np.sum((x - mu) ** 2))\n",
    "\n",
    "def get_centers(X, clusters):\n",
    "    centers = []\n",
    "    for i in range(clusters):\n",
    "        centers.append(random_point())\n",
    "    centers = np.array(centers)\n",
    "\n",
    "    prev_centers = centers.copy()\n",
    "    while (True):\n",
    "        # assign closest\n",
    "        points_by_cluster = [[] for k in range(clusters)]\n",
    "        for x in X:\n",
    "            x1, x2 = x\n",
    "            closest_cluster = -1\n",
    "            smallest_dist = 1000\n",
    "            for k in range(clusters):\n",
    "                mu1, mu2 = centers[k]\n",
    "                dist = math.sqrt((x1 - mu1) ** 2 + (x2 - mu2) ** 2)\n",
    "                if (dist < smallest_dist):\n",
    "                    smallest_dist = dist\n",
    "                    closest_cluster = k\n",
    "            points_by_cluster[closest_cluster].append(x)\n",
    "\n",
    "        # change centers to be mean\n",
    "        for k in range(clusters):\n",
    "            if (len(points_by_cluster[k]) == 0):\n",
    "                return get_centers(X, clusters)\n",
    "            cluster_points = np.array(points_by_cluster[k])\n",
    "            centers[k][0] = np.mean(cluster_points[:, 0])\n",
    "            centers[k][1] = np.mean(cluster_points[:, 1])\n",
    "\n",
    "        if ((prev_centers == centers).all()):\n",
    "            break\n",
    "        prev_centers = centers.copy()\n",
    "    return centers\n",
    "\n",
    "def get_features(X, centers, gamma):\n",
    "    output = []\n",
    "    for x in X:\n",
    "        features = [1]\n",
    "        for k in range(len(centers)):\n",
    "            features.append(kernel(x, centers[k], gamma))\n",
    "        output.append(features)\n",
    "    return np.array(output)\n",
    "\n",
    "def train_lloyds(X, y, clusters, gamma):\n",
    "    centers = get_centers(X, clusters)\n",
    "\n",
    "    X_features = get_features(X, centers, gamma)\n",
    "    w = linear_regression(X_features, y)\n",
    "    return w, centers\n",
    "\n",
    "def evaluate_lloyds(X, y, w, centers, gamma):\n",
    "    X_features = get_features(X, centers, gamma)\n",
    "    pred = np.sign(np.dot(X_features, w))\n",
    "    error = np.mean(pred != y)\n",
    "    return error"
   ]
  },
  {
   "cell_type": "code",
   "execution_count": 27,
   "metadata": {},
   "outputs": [
    {
     "data": {
      "text/plain": [
       "0.91"
      ]
     },
     "execution_count": 27,
     "metadata": {},
     "output_type": "execute_result"
    }
   ],
   "source": [
    "N_test = 1000\n",
    "N_simulations = 100\n",
    "K = 9\n",
    "gamma = 1.5\n",
    "\n",
    "non_separable = 0\n",
    "kernel_better = 0\n",
    "for i in range(N_simulations):\n",
    "    X_train, y_train = create_dataset(N_data)\n",
    "    X_test, y_test = create_dataset(N_test)\n",
    "\n",
    "    # regular rbf\n",
    "    w, centers = train_lloyds(X_train, y_train, K, gamma)\n",
    "    e_out_lloyds = evaluate_lloyds(X_test, y_test, w, centers, gamma)\n",
    "\n",
    "    # svm\n",
    "    clf = svm.SVC(C = 10e20, kernel='rbf', gamma=gamma, coef0=1)\n",
    "    clf.fit(X_train, y_train)\n",
    "    if (clf.score(X_train, y_train) != 1):\n",
    "        non_separable += 1\n",
    "    e_out_svm = 1 - clf.score(X_test, y_test)\n",
    "    kernel_better += int(e_out_svm < e_out_lloyds)\n",
    "\n",
    "valid_simulations = N_simulations - non_separable\n",
    "kernel_better /= valid_simulations\n",
    "kernel_better"
   ]
  },
  {
   "cell_type": "markdown",
   "metadata": {},
   "source": [
    "According to the code output above, the kernel form beats the regular form about 91% of the time, so the answer is **e)**."
   ]
  },
  {
   "cell_type": "markdown",
   "metadata": {},
   "source": [
    "### Problem 15."
   ]
  },
  {
   "cell_type": "code",
   "execution_count": 28,
   "metadata": {},
   "outputs": [
    {
     "data": {
      "text/plain": [
       "0.81"
      ]
     },
     "execution_count": 28,
     "metadata": {},
     "output_type": "execute_result"
    }
   ],
   "source": [
    "N_test = 1000\n",
    "N_simulations = 100\n",
    "K = 12\n",
    "gamma = 1.5\n",
    "\n",
    "non_separable = 0\n",
    "kernel_better = 0\n",
    "for i in range(N_simulations):\n",
    "    X_train, y_train = create_dataset(N_data)\n",
    "    X_test, y_test = create_dataset(N_test)\n",
    "\n",
    "    # regular rbf\n",
    "    w, centers = train_lloyds(X_train, y_train, K, gamma)\n",
    "    e_out_lloyds = evaluate_lloyds(X_test, y_test, w, centers, gamma)\n",
    "\n",
    "    # svm\n",
    "    clf = svm.SVC(C = 10e20, kernel='rbf', gamma=gamma, coef0=1)\n",
    "    clf.fit(X_train, y_train)\n",
    "    if (clf.score(X_train, y_train) != 1):\n",
    "        non_separable += 1\n",
    "    e_out_svm = 1 - clf.score(X_test, y_test)\n",
    "    kernel_better += int(e_out_svm < e_out_lloyds)\n",
    "\n",
    "valid_simulations = N_simulations - non_separable\n",
    "kernel_better /= valid_simulations\n",
    "kernel_better"
   ]
  },
  {
   "cell_type": "markdown",
   "metadata": {},
   "source": [
    "According to the code output above, the kernel form beats the regular form about 81% of the time, so the answer is **d)**."
   ]
  },
  {
   "cell_type": "markdown",
   "metadata": {},
   "source": [
    "### Problem 16."
   ]
  },
  {
   "cell_type": "code",
   "execution_count": 29,
   "metadata": {},
   "outputs": [
    {
     "data": {
      "text/plain": [
       "(0.61, 0.7)"
      ]
     },
     "execution_count": 29,
     "metadata": {},
     "output_type": "execute_result"
    }
   ],
   "source": [
    "N_test = 1000\n",
    "N_simulations = 100\n",
    "K1 = 9\n",
    "K2 = 12\n",
    "gamma = 1.5\n",
    "\n",
    "E_in_decreased = 0\n",
    "E_out_decreased = 0\n",
    "for i in range(N_simulations):\n",
    "    X_train, y_train = create_dataset(N_data)\n",
    "    X_test, y_test = create_dataset(N_test)\n",
    "\n",
    "    w1, centers1 = train_lloyds(X_train, y_train, K1, gamma)\n",
    "    w2, centers2 = train_lloyds(X_train, y_train, K2, gamma)\n",
    "\n",
    "    # get error\n",
    "    E_in1 = evaluate_lloyds(X_train, y_train, w1, centers1, gamma)\n",
    "    E_out1 = evaluate_lloyds(X_test, y_test, w1, centers1, gamma)\n",
    "\n",
    "    E_in2 = evaluate_lloyds(X_train, y_train, w2, centers2, gamma)\n",
    "    E_out2 = evaluate_lloyds(X_test, y_test, w2, centers2, gamma)\n",
    "\n",
    "    if (E_in2 < E_in1):\n",
    "        E_in_decreased += 1\n",
    "    if (E_out2 < E_out1):\n",
    "        E_out_decreased += 1\n",
    "E_in_decreased /= N_simulations\n",
    "E_out_decreased /= N_simulations\n",
    "E_in_decreased, E_out_decreased"
   ]
  },
  {
   "cell_type": "markdown",
   "metadata": {},
   "source": [
    "According to the code output above, $E_{in}$ and $E_{out}$ both decrease most of the time. Thus, the answer is **d)**."
   ]
  },
  {
   "cell_type": "markdown",
   "metadata": {},
   "source": [
    "### Problem 17."
   ]
  },
  {
   "cell_type": "code",
   "execution_count": 30,
   "metadata": {},
   "outputs": [
    {
     "data": {
      "text/plain": [
       "(0.25, 0.41)"
      ]
     },
     "execution_count": 30,
     "metadata": {},
     "output_type": "execute_result"
    }
   ],
   "source": [
    "N_test = 1000\n",
    "N_simulations = 100\n",
    "K = 9\n",
    "gamma1 = 1.5\n",
    "gamma2 = 2\n",
    "\n",
    "E_in_decreased = 0\n",
    "E_out_decreased = 0\n",
    "for i in range(N_simulations):\n",
    "    X_train, y_train = create_dataset(N_data)\n",
    "    X_test, y_test = create_dataset(N_test)\n",
    "\n",
    "    w1, centers1 = train_lloyds(X_train, y_train, K, gamma1)\n",
    "    w2, centers2 = train_lloyds(X_train, y_train, K, gamma2)\n",
    "\n",
    "    # get error\n",
    "    E_in1 = evaluate_lloyds(X_train, y_train, w1, centers1, gamma1)\n",
    "    E_out1 = evaluate_lloyds(X_test, y_test, w1, centers1, gamma1)\n",
    "\n",
    "    E_in2 = evaluate_lloyds(X_train, y_train, w2, centers2, gamma2)\n",
    "    E_out2 = evaluate_lloyds(X_test, y_test, w2, centers2, gamma2)\n",
    "\n",
    "    if (E_in2 < E_in1):\n",
    "        E_in_decreased += 1\n",
    "    if (E_out2 < E_out1):\n",
    "        E_out_decreased += 1\n",
    "E_in_decreased /= N_simulations\n",
    "E_out_decreased /= N_simulations\n",
    "E_in_decreased, E_out_decreased"
   ]
  },
  {
   "cell_type": "markdown",
   "metadata": {},
   "source": [
    "According to the code output above, both $E_{in}$ and $E_{out}$ do not decrease most of the time, meaning they increase most of the time, so the answer is **c)**."
   ]
  },
  {
   "cell_type": "markdown",
   "metadata": {},
   "source": [
    "### Problem 18."
   ]
  },
  {
   "cell_type": "code",
   "execution_count": 31,
   "metadata": {},
   "outputs": [
    {
     "data": {
      "text/plain": [
       "0.05"
      ]
     },
     "execution_count": 31,
     "metadata": {},
     "output_type": "execute_result"
    }
   ],
   "source": [
    "N_test = 1000\n",
    "N_simulations = 100\n",
    "K = 9\n",
    "gamma = 1.5\n",
    "\n",
    "e_in_zero = 0\n",
    "for i in range(N_simulations):\n",
    "    X_train, y_train = create_dataset(N_data)\n",
    "    X_test, y_test = create_dataset(N_test)\n",
    "\n",
    "    # regular rbf\n",
    "    w, centers = train_lloyds(X_train, y_train, K, gamma)\n",
    "    e_in_lloyds = evaluate_lloyds(X_train, y_train, w, centers, gamma)\n",
    "    if (e_in_lloyds == 0):\n",
    "        e_in_zero += 1\n",
    "\n",
    "e_in_zero /= N_simulations\n",
    "e_in_zero"
   ]
  },
  {
   "cell_type": "markdown",
   "metadata": {},
   "source": [
    "According to the code output above, $E_{in}$ is zero 5% of the time, so the answer is **a)**."
   ]
  },
  {
   "cell_type": "markdown",
   "metadata": {},
   "source": [
    "### Problem 19.\n",
    "Let $I$ denote the event that our singular sample had a heart attack. By Bayes Theorem,\n",
    "\n",
    "$P(h = f \\mid I) = \\frac{P(I \\mid h = f)P(h = f)}{P(I)}$\n",
    "\n",
    "We know that $P(I)$ is a constant, so we can ignore it. We are given that $P(h = f)$ is uniform over [0, 1]. Looking at $P(I \\mid h = f)$, it is evident that as $h$ increases, the probability of a heart attack increases, so $P(I \\mid h = f)$ increases linearly. As a result, the product of $P(I \\mid h = f)$ and $P(h = f)$ results in a posterior that increases linearly over [0, 1]. Thus, the answer is **b)**."
   ]
  },
  {
   "cell_type": "markdown",
   "metadata": {},
   "source": [
    "### Problem 20.\n",
    "\n",
    "$E_{out}(g) = E_{out}(\\frac{1}{2}(g_1(x) + g_2(x)))$\n",
    "\n",
    "$E_{out}(g) = E[(\\frac{1}{2}(g_1(x) + g_2(x)) - y)^2]$\n",
    "\n",
    "$E_{out}(g) = \\frac{1}{4}E[(g_1(x) + g_2(x) - 2y)^2]$\n",
    "\n",
    "$E_{out}(g) = \\frac{1}{4}E[g_1(x)^2 + g_2(x)^2 - 4yg_1(x) - 4yg_2(x) + 2g_1(x)g_2(x) + 4y^2]$\n",
    "\n",
    "$E_{out}(g) = \\frac{1}{2}E[\\frac{1}{2}g_1(x)^2 + \\frac{1}{2}g_2(x)^2 - 2yg_1(x) - 2yg_2(x) + g_1(x)g_2(x) + 2y^2]$\n",
    "\n",
    "$E_{out}(g) = \\frac{1}{2}E[(g_1(x) - y)^2 + (g_2(x) - y)^2 - \\frac{1}{2}g_1(x)^2 - \\frac{1}{2}g_2(x)^2 + g_1(x)g_2(x)]$\n",
    "\n",
    "$E_{out}(g) = \\frac{E_{out}(g1) + E_{out}(g2)}{2} - \\frac{1}{2}E[\\frac{1}{2}g_1(x)^2 + \\frac{1}{2}g_2(x)^2 - g_1(x)g_2(x)]$\n",
    "\n",
    "$E_{out}(g) = \\frac{E_{out}(g1) + E_{out}(g2)}{2} - \\frac{1}{4}E[g_1(x)^2 + g_2(x)^2 - 2g_1(x)g_2(x)]$\n",
    "\n",
    "$E_{out}(g) = \\frac{E_{out}(g1) + E_{out}(g2)}{2} - \\frac{1}{4}E[(g_1(x)-g_2(x))^2]$\n",
    "\n",
    "Since $E[(g_1(x)-g_2(x))^2]$ is always greater than or equal to zero, it follows that \n",
    "\n",
    "$E_{out}(g) \\leq \\frac{E_{out}(g1) + E_{out}(g2)}{2}$\n",
    "\n",
    "Thus, the answer is **c)**."
   ]
  }
 ],
 "metadata": {
  "kernelspec": {
   "display_name": "Python 3",
   "language": "python",
   "name": "python3"
  },
  "language_info": {
   "codemirror_mode": {
    "name": "ipython",
    "version": 3
   },
   "file_extension": ".py",
   "mimetype": "text/x-python",
   "name": "python",
   "nbconvert_exporter": "python",
   "pygments_lexer": "ipython3",
   "version": "3.11.0"
  }
 },
 "nbformat": 4,
 "nbformat_minor": 2
}
