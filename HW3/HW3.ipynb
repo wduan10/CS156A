{
 "cells": [
  {
   "cell_type": "markdown",
   "metadata": {},
   "source": [
    "## CS156A Homework 3\n",
    "## Wilson Duan"
   ]
  },
  {
   "cell_type": "markdown",
   "metadata": {},
   "source": [
    "### Problem 1.\n",
    "Since the probability bound is at most 0.03,\n",
    "\\begin{align*}\n",
    "    2Me^{-2\\epsilon^2N} &\\leq 0.03 \\\\\n",
    "    2(1)e^{-2(0.05^2)N} &\\leq 0.03 && [\\text{Setting $\\epsilon = 0.05$, $M = 1$}] \\\\\n",
    "    2e^{-0.005N} &\\leq 0.03 \\\\\n",
    "    e^{-0.005N} &\\leq 0.015 \\\\\n",
    "    -0.005N &\\leq ln(0.015) \\\\\n",
    "    N &\\geq -200 ln(0.015) = 839.941\n",
    "\\end{align*}\n",
    "Therefore, the answer is **b)**."
   ]
  },
  {
   "cell_type": "markdown",
   "metadata": {},
   "source": [
    "### Problem 2.\n",
    "Repeating for $M = 10$:\n",
    "\\begin{align*}\n",
    "    2Me^{-2\\epsilon^2N} &\\leq 0.03 \\\\\n",
    "    2(10)e^{-2(0.05^2)N} &\\leq 0.03 && [\\text{Setting $\\epsilon = 0.05$, $M = 10$}] \\\\\n",
    "    20e^{-0.005N} &\\leq 0.03 \\\\\n",
    "    e^{-0.005N} &\\leq 0.0015 \\\\\n",
    "    -0.005N &\\leq ln(0.0015) \\\\\n",
    "    N &\\geq -200 ln(0.0015) = 1300.458\n",
    "\\end{align*}\n",
    "Therefore, the answer is **c)**."
   ]
  },
  {
   "cell_type": "markdown",
   "metadata": {},
   "source": [
    "### Problem 3.\n",
    "Repeating for $M = 100$:\n",
    "\\begin{align*}\n",
    "    2Me^{-2\\epsilon^2N} &\\leq 0.03 \\\\\n",
    "    2(100)e^{-2(0.05^2)N} &\\leq 0.03 && [\\text{Setting $\\epsilon = 0.05$, $M = 100$}] \\\\\n",
    "    200e^{-0.005N} &\\leq 0.03 \\\\\n",
    "    e^{-0.005N} &\\leq 0.00015 \\\\\n",
    "    -0.005N &\\leq ln(0.00015) \\\\\n",
    "    N &\\geq -200 ln(0.00015) = 1760.975\n",
    "\\end{align*}\n",
    "Therefore, the answer is **d)**."
   ]
  },
  {
   "cell_type": "markdown",
   "metadata": {},
   "source": [
    "### Problem 4.\n",
    "The smallest break point for a perceptron in $\\mathbb{R}^3$ is 5 because the break point increases by one as you increase the dimension by one by the VC Dimension Theory. The break point for a perceptron in $\\mathbb{R}^2$ is 4, so the break point for a perperceptron in $\\mathbb{R}^3$ is $4 + 1 = 5$, and the answer is **b)**."
   ]
  },
  {
   "cell_type": "markdown",
   "metadata": {},
   "source": [
    "### Problem 5.\n",
    "If the hypothesis has a break point, its growth function is polynomial. Otherwise, its growth function is $2^N$. Looking at each option,\n",
    "i) $1 + N$ is polynomial, so it is a valid growth function.\n",
    "\n",
    "ii) $1 + N + {N \\choose 2} = 1 + N + \\frac{N(N-1)}{2} = 1 + N + \\frac{N^2 - N}{2}$, which is polynomial, so it is a valid growth function.\n",
    "\n",
    "iii) $\\sum_{i=1}^{\\lfloor\\sqrt{N}\\rfloor} {N \\choose i}$ is neither polynomial nor $2^N$, so it is not a valid growth function.\n",
    "\n",
    "iv) $2^{\\lfloor N/2 \\rfloor}$ is neither polynomial nor $2^N$, so it is not a valid growth function.\n",
    "\n",
    "v) $2^N$ is a valid growth function.\n",
    "\n",
    "Therefore, the answer is **b)**."
   ]
  },
  {
   "cell_type": "markdown",
   "metadata": {},
   "source": [
    "### Problem 6.\n",
    "With this hypothesis, there can only be 2 different sets of +1. This hypothesis can shatter 4 points since it is impossible to create 3 different sets of +1. However, with 5 points, you can create 3 different sets of +1 with the points +1, -1, +1, -1, +1, making 5 the break point and the answer to be **c)**."
   ]
  },
  {
   "cell_type": "markdown",
   "metadata": {},
   "source": [
    "### Problem 7.\n",
    "There are $N + 1 \\choose 4$ ways to construct two intervals with non-negative length, as you have $N + 1$ places to put four \"bars\", two of which dictate the left bound of each interval, and the other two of which dictate the right bounds of each interval. There are $N + 1 \\choose 2$ ways to construct one interval with non-negative length, as you have $N + 1$ places to put a left and right bound on the interval. There is 1 way to construct no interval, leaving all the points to be classified as -1. As a result, the sum ${N + 1 \\choose 4} + {N + 1 \\choose 2} + 1$ is the answer, and the answer is **c)**."
   ]
  },
  {
   "cell_type": "markdown",
   "metadata": {},
   "source": [
    "### Problem 8.\n",
    "The smallest break point of an M-intervals hypothesis is the collection of M + 1 intervals of +1s, separated by -1s in between. This is the smallest break point because M-intervals can only generate M intervals to correctly classify the +1s, leaving one of the +1s to be classified incorrectly. Since this break point needs M + 1 intervals of +1s, separated by M -1s, it needs $M + 1 + M = 2M + 1$ points, so the answer is **d)**."
   ]
  },
  {
   "cell_type": "markdown",
   "metadata": {},
   "source": [
    "### Problem 9.\n",
    "First, we set up the points in a circle, as this configuration maximizes the number of dichotomies. We note that a triangle easily classifies +1s when they are close together, and starts to struggle when the +1s are separated by -1s inbetween. Since a triangle has three points, it is able to classify 3 separated groups of +1s. If the number of separated groups of +1s is 4 or more, the hypothesis no longer shatters the points. It is only possible to generate 4 separated groups of +1s if you also use at least 4 -1s to separate the +1s. This means 8 is a breaking point, since you can construct the circle with alternating +1s and -1s to create 4 separated groups of +1s. It is possible to shatter 7 because the most amount of separated groups of +1s that can be created is 3 (there are not enough -1s to create 4 separated groups of +1s). Therefore, the answer is **d)**."
   ]
  },
  {
   "cell_type": "markdown",
   "metadata": {},
   "source": [
    "### Problem 10.\n",
    "Looking at the concentric circles, we note that it classifies points solely by the distance from the points to the center of the circles (we will denote this distance to be r). In other words, if r is between a and b, it is classified as +1, and classified as -1 otherwise. This method of classifying is synonymous to the 1-interval hypothesis. There are $N + 1 \\choose 2$ ways to construct one interval with non-negative length, as you have $N + 1$ places to put a left and right bound on the interval (synonymous to choosing a and b). There is 1 way to construct no interval (synonymous to setting a = b), leaving all the points to be classified as -1. As a result, the sum ${N + 1 \\choose 2} + 1$ is the answer, and the answer is **b)**."
   ]
  }
 ],
 "metadata": {
  "kernelspec": {
   "display_name": "Python 3",
   "language": "python",
   "name": "python3"
  },
  "language_info": {
   "codemirror_mode": {
    "name": "ipython",
    "version": 3
   },
   "file_extension": ".py",
   "mimetype": "text/x-python",
   "name": "python",
   "nbconvert_exporter": "python",
   "pygments_lexer": "ipython3",
   "version": "3.11.0"
  }
 },
 "nbformat": 4,
 "nbformat_minor": 2
}
